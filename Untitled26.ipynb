{
  "cells": [
    {
      "cell_type": "code",
      "execution_count": 2,
      "metadata": {
        "colab": {
          "base_uri": "https://localhost:8080/",
          "height": 206
        },
        "id": "BKSHNrfA-uQg",
        "outputId": "0ee4685a-54ca-46ab-fb35-cf1940599a2e"
      },
      "outputs": [
        {
          "data": {
            "text/html": [
              "<div>\n",
              "<style scoped>\n",
              "    .dataframe tbody tr th:only-of-type {\n",
              "        vertical-align: middle;\n",
              "    }\n",
              "\n",
              "    .dataframe tbody tr th {\n",
              "        vertical-align: top;\n",
              "    }\n",
              "\n",
              "    .dataframe thead th {\n",
              "        text-align: right;\n",
              "    }\n",
              "</style>\n",
              "<table border=\"1\" class=\"dataframe\">\n",
              "  <thead>\n",
              "    <tr style=\"text-align: right;\">\n",
              "      <th></th>\n",
              "      <th>comment</th>\n",
              "      <th>sentiment</th>\n",
              "    </tr>\n",
              "  </thead>\n",
              "  <tbody>\n",
              "    <tr>\n",
              "      <th>0</th>\n",
              "      <td>غياب السيارات الصينية يعني أن عصابات رأس المال...</td>\n",
              "      <td>negative</td>\n",
              "    </tr>\n",
              "    <tr>\n",
              "      <th>1</th>\n",
              "      <td>ههههههه السيارات الصينية بقداش و لا ترامب يعطي...</td>\n",
              "      <td>neutral</td>\n",
              "    </tr>\n",
              "    <tr>\n",
              "      <th>2</th>\n",
              "      <td>بالله العمر متاع السيارة مفتوح والا اقل من  سن...</td>\n",
              "      <td>neutral</td>\n",
              "    </tr>\n",
              "    <tr>\n",
              "      <th>3</th>\n",
              "      <td>لازم أقل من  سنوات</td>\n",
              "      <td>neutral</td>\n",
              "    </tr>\n",
              "    <tr>\n",
              "      <th>4</th>\n",
              "      <td>مشكور أما  سنين كراهب غالين ناار هكاوإن شاء ال...</td>\n",
              "      <td>positive</td>\n",
              "    </tr>\n",
              "  </tbody>\n",
              "</table>\n",
              "</div>"
            ],
            "text/plain": [
              "                                             comment sentiment\n",
              "0  غياب السيارات الصينية يعني أن عصابات رأس المال...  negative\n",
              "1  ههههههه السيارات الصينية بقداش و لا ترامب يعطي...   neutral\n",
              "2  بالله العمر متاع السيارة مفتوح والا اقل من  سن...   neutral\n",
              "3                                 لازم أقل من  سنوات   neutral\n",
              "4  مشكور أما  سنين كراهب غالين ناار هكاوإن شاء ال...  positive"
            ]
          },
          "execution_count": 2,
          "metadata": {},
          "output_type": "execute_result"
        }
      ],
      "source": [
        "import pandas as pd\n",
        "df=pd.read_csv(\"data.csv\",sep=\",\")\n",
        "df.head()"
      ]
    },
    {
      "cell_type": "code",
      "execution_count": 3,
      "metadata": {
        "colab": {
          "base_uri": "https://localhost:8080/"
        },
        "id": "ml04I4fu_FVj",
        "outputId": "19d91ab7-8903-4f51-86b6-0950cfaf3607"
      },
      "outputs": [
        {
          "name": "stdout",
          "output_type": "stream",
          "text": [
            "<class 'pandas.core.frame.DataFrame'>\n",
            "RangeIndex: 1005 entries, 0 to 1004\n",
            "Data columns (total 2 columns):\n",
            " #   Column     Non-Null Count  Dtype \n",
            "---  ------     --------------  ----- \n",
            " 0   comment    1005 non-null   object\n",
            " 1   sentiment  1005 non-null   object\n",
            "dtypes: object(2)\n",
            "memory usage: 15.8+ KB\n"
          ]
        }
      ],
      "source": [
        "df.info()"
      ]
    },
    {
      "cell_type": "code",
      "execution_count": 21,
      "metadata": {},
      "outputs": [
        {
          "data": {
            "text/html": [
              "<div>\n",
              "<style scoped>\n",
              "    .dataframe tbody tr th:only-of-type {\n",
              "        vertical-align: middle;\n",
              "    }\n",
              "\n",
              "    .dataframe tbody tr th {\n",
              "        vertical-align: top;\n",
              "    }\n",
              "\n",
              "    .dataframe thead th {\n",
              "        text-align: right;\n",
              "    }\n",
              "</style>\n",
              "<table border=\"1\" class=\"dataframe\">\n",
              "  <thead>\n",
              "    <tr style=\"text-align: right;\">\n",
              "      <th></th>\n",
              "      <th>comment</th>\n",
              "      <th>sentiment</th>\n",
              "    </tr>\n",
              "  </thead>\n",
              "  <tbody>\n",
              "    <tr>\n",
              "      <th>count</th>\n",
              "      <td>1005</td>\n",
              "      <td>1005</td>\n",
              "    </tr>\n",
              "    <tr>\n",
              "      <th>unique</th>\n",
              "      <td>799</td>\n",
              "      <td>3</td>\n",
              "    </tr>\n",
              "    <tr>\n",
              "      <th>top</th>\n",
              "      <td>الواحد يتمنى يشوف تونس الكل تستعمل طاقة نظيفة،...</td>\n",
              "      <td>neutral</td>\n",
              "    </tr>\n",
              "    <tr>\n",
              "      <th>freq</th>\n",
              "      <td>2</td>\n",
              "      <td>364</td>\n",
              "    </tr>\n",
              "  </tbody>\n",
              "</table>\n",
              "</div>"
            ],
            "text/plain": [
              "                                                  comment sentiment\n",
              "count                                                1005      1005\n",
              "unique                                                799         3\n",
              "top     الواحد يتمنى يشوف تونس الكل تستعمل طاقة نظيفة،...   neutral\n",
              "freq                                                    2       364"
            ]
          },
          "execution_count": 21,
          "metadata": {},
          "output_type": "execute_result"
        }
      ],
      "source": [
        "df.describe()\n"
      ]
    },
    {
      "cell_type": "code",
      "execution_count": null,
      "metadata": {},
      "outputs": [
        {
          "data": {
            "text/plain": [
              "comment      object\n",
              "sentiment    object\n",
              "dtype: object"
            ]
          },
          "execution_count": 19,
          "metadata": {},
          "output_type": "execute_result"
        }
      ],
      "source": [
        "\n"
      ]
    },
    {
      "cell_type": "code",
      "execution_count": 5,
      "metadata": {
        "id": "n3cpf2QS_VsF"
      },
      "outputs": [],
      "source": [
        "X=list(df[\"comment\"])\n",
        "y=df[\"sentiment\"]"
      ]
    },
    {
      "cell_type": "code",
      "execution_count": 6,
      "metadata": {
        "colab": {
          "base_uri": "https://localhost:8080/"
        },
        "id": "jPBIz1_8_eUk",
        "outputId": "208d6958-9032-40fd-fdcf-c6537cac7d76"
      },
      "outputs": [
        {
          "data": {
            "text/plain": [
              "['غياب السيارات الصينية يعني أن عصابات رأس المال المرتبطة بالغرب لازالت تسيطر على السوق التونسية',\n",
              " 'ههههههه السيارات الصينية بقداش و لا ترامب يعطيكم طريحة ',\n",
              " 'بالله العمر متاع السيارة مفتوح والا اقل من  سنوات القانون هذا متاع  ،والمعاليم مزلت مش مفهومة النسبة على السعر الي شريت بيه من اوروبا  شكرا']"
            ]
          },
          "execution_count": 6,
          "metadata": {},
          "output_type": "execute_result"
        }
      ],
      "source": [
        "X[:3]"
      ]
    },
    {
      "cell_type": "code",
      "execution_count": 7,
      "metadata": {
        "colab": {
          "base_uri": "https://localhost:8080/"
        },
        "id": "9D93Cqf8_oKS",
        "outputId": "69dd10ad-dcf5-4153-d145-c86612d0b13b"
      },
      "outputs": [
        {
          "data": {
            "text/plain": [
              "['غياب السيارات الصينية يعني أن عصابات رأس المال المرتبطة بالغرب لازالت تسيطر على السوق التونسية',\n",
              " 'ههههههه السيارات الصينية بقداش و لا ترامب يعطيكم طريحة ',\n",
              " 'بالله العمر متاع السيارة مفتوح والا اقل من سنوات القانون هذا متاع ،والمعاليم مزلت مش مفهومة النسبة على السعر الي شريت بيه من اوروبا شكرا',\n",
              " 'لازم أقل من سنوات',\n",
              " 'مشكور أما سنين كراهب غالين ناار هكاوإن شاء الله تجربلنا سيارة كهربائية عادية من تونس لطبرقة عين دراهم مثلا فيديو كامل ووين تتوقف بش تشرجي مثلا رينو كهربائية تجربها في الجبال المنعرجات وطريق سيارة متوسط كيما تونس واد زرقة وشكرا هذا بش يشجع جيبانها ',\n",
              " 'يوجد خلل في إشتعال السيارات الكهربائية أاثناء الشحتن',\n",
              " 'هايل برشا ناقص فكرة على الأسعار؟',\n",
              " 'بربي قداش عمر السيارة الكهربائية الاقصى المسموح بتوريدها لتونس',\n",
              " 'نجم نهبطوا معايا الشارجور متاعها من برا ؟',\n",
              " 'معناها نقعد نساناها تلاثة سوايع باش تتشرجى سماح',\n",
              " 'شكون يفهمني في اكثر مثال عندي شريت سيارة من فرنسا كيفاش نوع السيارة وعمرها وقداش تدفع الديوانه ولا حسب قوة السيارة او سعرها',\n",
              " 'سوال اذا حبيت نجيب كرهباء موديل جديد مثلا سومها خمسة الف يورو قداش تخلص ديوانية جمارك ؟؟؟',\n",
              " 'هذا البلد لا نستطيع الحديث فيه عن اي مشروع بلد قتل الطموح ورغبة العمل و الحلمعليكم بالهجرة فانها اكرم لكم',\n",
              " 'هل ممكن ندخل سيارة أقل من سنة منليبيا الى تونس؟',\n",
              " 'انا كان نلقى نبيع إلي ورايا و إلي قدامي على ']"
            ]
          },
          "execution_count": 7,
          "metadata": {},
          "output_type": "execute_result"
        }
      ],
      "source": [
        "import re\n",
        "\n",
        "tidy_X = []\n",
        "for ch in X:\n",
        "    tmp = re.sub(r\"[^\\u0600-\\u06FF]\", \" \", str(ch))\n",
        "    tmp = re.sub(r\"\\s+\", \" \", tmp)\n",
        "    tmp = tmp.lower()\n",
        "    tidy_X.append(tmp)\n",
        "tidy_X[:15]\n"
      ]
    },
    {
      "cell_type": "code",
      "execution_count": 8,
      "metadata": {
        "colab": {
          "base_uri": "https://localhost:8080/"
        },
        "id": "zv1NTD1tBXSz",
        "outputId": "81d40c67-180d-45cb-85eb-f3edaa08feac"
      },
      "outputs": [
        {
          "name": "stderr",
          "output_type": "stream",
          "text": [
            "[nltk_data] Downloading package stopwords to\n",
            "[nltk_data]     C:\\Users\\Barkia\\AppData\\Roaming\\nltk_data...\n",
            "[nltk_data]   Package stopwords is already up-to-date!\n",
            "c:\\Users\\Barkia\\anaconda3\\Lib\\site-packages\\sklearn\\feature_extraction\\text.py:406: UserWarning: Your stop_words may be inconsistent with your preprocessing. Tokenizing the stop words generated tokens ['آمين', 'أب', 'أخ', 'أفعل', 'أفعله', 'ؤلاء', 'إل', 'إم', 'ات', 'اتان', 'ارتد', 'ان', 'انفك', 'برح', 'تان', 'تبد', 'تحو', 'تعل', 'حد', 'حم', 'حي', 'خب', 'ذار', 'سيما', 'صه', 'ظل', 'ظن', 'عد', 'قط', 'مر', 'مكان', 'مكانكن', 'نب', 'هات', 'هب', 'واها', 'وراء'] not in stop_words.\n",
            "  warnings.warn(\n"
          ]
        }
      ],
      "source": [
        "import nltk\n",
        "from nltk.corpus import stopwords\n",
        "nltk.download('stopwords')\n",
        "from sklearn.feature_extraction.text import TfidfVectorizer\n",
        "vectorizer=TfidfVectorizer(max_features=1000,max_df=0.8,min_df=7,stop_words=stopwords.words('arabic'))\n",
        "X=vectorizer.fit_transform(tidy_X).toarray()\n"
      ]
    },
    {
      "cell_type": "code",
      "execution_count": 9,
      "metadata": {
        "id": "mzBwi02oC8eB"
      },
      "outputs": [],
      "source": [
        "from sklearn.model_selection import train_test_split\n",
        "X_train,X_test,y_train,y_test=train_test_split(X,y,test_size=0.2)"
      ]
    },
    {
      "cell_type": "code",
      "execution_count": 10,
      "metadata": {
        "id": "oirieOy2C8ak"
      },
      "outputs": [],
      "source": [
        "from sklearn.naive_bayes import GaussianNB\n",
        "from sklearn.neural_network import MLPClassifier\n",
        "from sklearn.svm import SVC\n",
        "#Inialization\n",
        "nb=GaussianNB()"
      ]
    },
    {
      "cell_type": "code",
      "execution_count": 11,
      "metadata": {
        "id": "l0O6ru_WDH23"
      },
      "outputs": [
        {
          "name": "stderr",
          "output_type": "stream",
          "text": [
            "c:\\Users\\Barkia\\anaconda3\\Lib\\site-packages\\sklearn\\neural_network\\_multilayer_perceptron.py:690: ConvergenceWarning: Stochastic Optimizer: Maximum iterations (200) reached and the optimization hasn't converged yet.\n",
            "  warnings.warn(\n"
          ]
        }
      ],
      "source": [
        "nn=MLPClassifier(hidden_layer_sizes=(10,10),activation=\"logistic\",solver='adam')\n",
        "linear_svm=SVC(kernel='linear')\n",
        "rbf_svm=SVC(kernel='rbf')\n",
        "sgd_svm=SVC(kernel='sigmoid')\n",
        "poly_svm=SVC(kernel='poly',degree=2)\n",
        "#Training\n",
        "nb.fit(X_train,y_train)\n",
        "nn.fit(X_train,y_train)\n",
        "linear_svm.fit(X_train,y_train)\n",
        "rbf_svm.fit(X_train,y_train)\n",
        "sgd_svm.fit(X_train,y_train)\n",
        "poly_svm.fit(X_train,y_train)\n",
        "#Prediction\n",
        "y_pred_nb=nb.predict(X_test)\n",
        "y_pred_nn=nn.predict(X_test)\n",
        "y_pred_rbf=rbf_svm.predict(X_test)\n",
        "y_pred_linear=linear_svm.predict(X_test)\n",
        "y_pred_sgd=sgd_svm.predict(X_test)\n",
        "y_pred_poly=poly_svm.predict(X_test)"
      ]
    },
    {
      "cell_type": "code",
      "execution_count": 12,
      "metadata": {
        "colab": {
          "base_uri": "https://localhost:8080/"
        },
        "id": "e7wtj6UKDcDO",
        "outputId": "5471b889-3fab-4232-e5e2-6e7f19b898ed"
      },
      "outputs": [
        {
          "name": "stdout",
          "output_type": "stream",
          "text": [
            "************ Performance of Naive Bayes *************\n",
            "              precision    recall  f1-score   support\n",
            "\n",
            "    negative       0.70      0.55      0.62        60\n",
            "     neutral       0.72      0.55      0.63        76\n",
            "    positive       0.61      0.91      0.73        65\n",
            "\n",
            "    accuracy                           0.67       201\n",
            "   macro avg       0.68      0.67      0.66       201\n",
            "weighted avg       0.68      0.67      0.66       201\n",
            "\n",
            "************ Performance of Neural Network *************\n",
            "              precision    recall  f1-score   support\n",
            "\n",
            "    negative       0.00      0.00      0.00        60\n",
            "     neutral       0.60      0.92      0.73        76\n",
            "    positive       0.67      0.88      0.76        65\n",
            "\n",
            "    accuracy                           0.63       201\n",
            "   macro avg       0.42      0.60      0.50       201\n",
            "weighted avg       0.45      0.63      0.52       201\n",
            "\n",
            "************ Performance of Linear SVM *************\n",
            "              precision    recall  f1-score   support\n",
            "\n",
            "    negative       0.79      0.62      0.69        60\n",
            "     neutral       0.77      0.78      0.77        76\n",
            "    positive       0.71      0.85      0.77        65\n",
            "\n",
            "    accuracy                           0.75       201\n",
            "   macro avg       0.76      0.75      0.75       201\n",
            "weighted avg       0.76      0.75      0.75       201\n",
            "\n",
            "************ Performance of RBF SVM *************\n",
            "              precision    recall  f1-score   support\n",
            "\n",
            "    negative       0.85      0.73      0.79        60\n",
            "     neutral       0.81      0.86      0.83        76\n",
            "    positive       0.81      0.86      0.84        65\n",
            "\n",
            "    accuracy                           0.82       201\n",
            "   macro avg       0.82      0.82      0.82       201\n",
            "weighted avg       0.82      0.82      0.82       201\n",
            "\n",
            "************ Performance of SGD SVM *************\n",
            "              precision    recall  f1-score   support\n",
            "\n",
            "    negative       0.71      0.60      0.65        60\n",
            "     neutral       0.74      0.74      0.74        76\n",
            "    positive       0.70      0.80      0.75        65\n",
            "\n",
            "    accuracy                           0.72       201\n",
            "   macro avg       0.72      0.71      0.71       201\n",
            "weighted avg       0.72      0.72      0.71       201\n",
            "\n",
            "************ Performance of Poly SVM *************\n",
            "              precision    recall  f1-score   support\n",
            "\n",
            "    negative       0.82      0.77      0.79        60\n",
            "     neutral       0.79      0.86      0.82        76\n",
            "    positive       0.86      0.83      0.84        65\n",
            "\n",
            "    accuracy                           0.82       201\n",
            "   macro avg       0.82      0.82      0.82       201\n",
            "weighted avg       0.82      0.82      0.82       201\n",
            "\n"
          ]
        },
        {
          "name": "stderr",
          "output_type": "stream",
          "text": [
            "c:\\Users\\Barkia\\anaconda3\\Lib\\site-packages\\sklearn\\metrics\\_classification.py:1531: UndefinedMetricWarning: Precision is ill-defined and being set to 0.0 in labels with no predicted samples. Use `zero_division` parameter to control this behavior.\n",
            "  _warn_prf(average, modifier, f\"{metric.capitalize()} is\", len(result))\n",
            "c:\\Users\\Barkia\\anaconda3\\Lib\\site-packages\\sklearn\\metrics\\_classification.py:1531: UndefinedMetricWarning: Precision is ill-defined and being set to 0.0 in labels with no predicted samples. Use `zero_division` parameter to control this behavior.\n",
            "  _warn_prf(average, modifier, f\"{metric.capitalize()} is\", len(result))\n",
            "c:\\Users\\Barkia\\anaconda3\\Lib\\site-packages\\sklearn\\metrics\\_classification.py:1531: UndefinedMetricWarning: Precision is ill-defined and being set to 0.0 in labels with no predicted samples. Use `zero_division` parameter to control this behavior.\n",
            "  _warn_prf(average, modifier, f\"{metric.capitalize()} is\", len(result))\n"
          ]
        }
      ],
      "source": [
        "from sklearn.metrics import classification_report\n",
        "print(\"************ Performance of Naive Bayes *************\")\n",
        "print(classification_report(y_test,y_pred_nb))\n",
        "print(\"************ Performance of Neural Network *************\")\n",
        "print(classification_report(y_test,y_pred_nn))\n",
        "print(\"************ Performance of Linear SVM *************\")\n",
        "print(classification_report(y_test,y_pred_linear))\n",
        "print(\"************ Performance of RBF SVM *************\")\n",
        "print(classification_report(y_test,y_pred_rbf))\n",
        "print(\"************ Performance of SGD SVM *************\")\n",
        "print(classification_report(y_test,y_pred_sgd))\n",
        "print(\"************ Performance of Poly SVM *************\")\n",
        "print(classification_report(y_test,y_pred_poly))"
      ]
    },
    {
      "cell_type": "code",
      "execution_count": 13,
      "metadata": {},
      "outputs": [],
      "source": [
        "import pickle\n",
        "\n",
        "with open(\"linear_svm_model.pkl\", \"wb\") as f:\n",
        "    pickle.dump(linear_svm, f)\n",
        "\n"
      ]
    },
    {
      "cell_type": "code",
      "execution_count": 14,
      "metadata": {},
      "outputs": [
        {
          "data": {
            "text/plain": [
              "['poly_svm_model.pkl']"
            ]
          },
          "execution_count": 14,
          "metadata": {},
          "output_type": "execute_result"
        }
      ],
      "source": [
        "import joblib\n",
        "\n",
        "# Save models\n",
        "joblib.dump(nb, 'nb_model.pkl')\n",
        "joblib.dump(nn, 'nn_model.pkl')\n",
        "joblib.dump(linear_svm, 'linear_svm_model.pkl')\n",
        "joblib.dump(rbf_svm, 'rbf_svm_model.pkl')\n",
        "joblib.dump(sgd_svm, 'sgd_svm_model.pkl')\n",
        "joblib.dump(poly_svm, 'poly_svm_model.pkl')\n"
      ]
    },
    {
      "cell_type": "code",
      "execution_count": 15,
      "metadata": {},
      "outputs": [
        {
          "data": {
            "text/plain": [
              "['vectorizer.pkl']"
            ]
          },
          "execution_count": 15,
          "metadata": {},
          "output_type": "execute_result"
        }
      ],
      "source": [
        "# Save model and vectorizer\n",
        "joblib.dump(linear_svm, 'sentiment_model.pkl')\n",
        "joblib.dump(vectorizer, 'vectorizer.pkl')"
      ]
    }
  ],
  "metadata": {
    "colab": {
      "provenance": []
    },
    "kernelspec": {
      "display_name": "base",
      "language": "python",
      "name": "python3"
    },
    "language_info": {
      "codemirror_mode": {
        "name": "ipython",
        "version": 3
      },
      "file_extension": ".py",
      "mimetype": "text/x-python",
      "name": "python",
      "nbconvert_exporter": "python",
      "pygments_lexer": "ipython3",
      "version": "3.12.7"
    }
  },
  "nbformat": 4,
  "nbformat_minor": 0
}
